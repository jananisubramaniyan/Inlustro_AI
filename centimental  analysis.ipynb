{
 "cells": [
  {
   "cell_type": "code",
   "execution_count": 45,
   "id": "66caa36e",
   "metadata": {},
   "outputs": [
    {
     "name": "stdout",
     "output_type": "stream",
     "text": [
      "Requirement already satisfied: textblob in c:\\programdata\\anaconda3\\lib\\site-packages (0.18.0.post0)\n",
      "Requirement already satisfied: nltk>=3.8 in c:\\programdata\\anaconda3\\lib\\site-packages (from textblob) (3.9.1)\n",
      "Requirement already satisfied: click in c:\\programdata\\anaconda3\\lib\\site-packages (from nltk>=3.8->textblob) (8.0.3)\n",
      "Requirement already satisfied: joblib in c:\\programdata\\anaconda3\\lib\\site-packages (from nltk>=3.8->textblob) (1.1.0)\n",
      "Requirement already satisfied: tqdm in c:\\programdata\\anaconda3\\lib\\site-packages (from nltk>=3.8->textblob) (4.62.3)\n",
      "Requirement already satisfied: regex>=2021.8.3 in c:\\programdata\\anaconda3\\lib\\site-packages (from nltk>=3.8->textblob) (2021.8.3)\n",
      "Requirement already satisfied: colorama in c:\\programdata\\anaconda3\\lib\\site-packages (from click->nltk>=3.8->textblob) (0.4.4)\n",
      "Note: you may need to restart the kernel to use updated packages.\n"
     ]
    },
    {
     "name": "stderr",
     "output_type": "stream",
     "text": [
      "WARNING: Ignoring invalid distribution - (c:\\programdata\\anaconda3\\lib\\site-packages)\n",
      "WARNING: Ignoring invalid distribution - (c:\\programdata\\anaconda3\\lib\\site-packages)\n",
      "WARNING: Ignoring invalid distribution - (c:\\programdata\\anaconda3\\lib\\site-packages)\n",
      "WARNING: Ignoring invalid distribution - (c:\\programdata\\anaconda3\\lib\\site-packages)\n",
      "WARNING: Ignoring invalid distribution - (c:\\programdata\\anaconda3\\lib\\site-packages)\n",
      "WARNING: Ignoring invalid distribution - (c:\\programdata\\anaconda3\\lib\\site-packages)\n"
     ]
    }
   ],
   "source": [
    "pip install -U textblob\n"
   ]
  },
  {
   "cell_type": "code",
   "execution_count": 46,
   "id": "6c158ee2",
   "metadata": {
    "scrolled": true
   },
   "outputs": [],
   "source": [
    "# Import necessary libraries\n",
    "import nltk\n",
    "from nltk.corpus import stopwords\n",
    "from nltk.tokenize import word_tokenize\n",
    "from nltk.stem import PorterStemmer,WordNetLemmatizer\n",
    "from textblob import TextBlob"
   ]
  },
  {
   "cell_type": "code",
   "execution_count": 47,
   "id": "0843e107",
   "metadata": {},
   "outputs": [
    {
     "name": "stderr",
     "output_type": "stream",
     "text": [
      "[nltk_data] Downloading package punkt to\n",
      "[nltk_data]     C:\\Users\\Administrator\\AppData\\Roaming\\nltk_data...\n",
      "[nltk_data]   Package punkt is already up-to-date!\n",
      "[nltk_data] Downloading package stopwords to\n",
      "[nltk_data]     C:\\Users\\Administrator\\AppData\\Roaming\\nltk_data...\n",
      "[nltk_data]   Package stopwords is already up-to-date!\n",
      "[nltk_data] Downloading package averaged_perceptron_tagger to\n",
      "[nltk_data]     C:\\Users\\Administrator\\AppData\\Roaming\\nltk_data...\n",
      "[nltk_data]   Package averaged_perceptron_tagger is already up-to-\n",
      "[nltk_data]       date!\n",
      "[nltk_data] Downloading package wordnet to\n",
      "[nltk_data]     C:\\Users\\Administrator\\AppData\\Roaming\\nltk_data...\n",
      "[nltk_data]   Package wordnet is already up-to-date!\n"
     ]
    },
    {
     "data": {
      "text/plain": [
       "True"
      ]
     },
     "execution_count": 47,
     "metadata": {},
     "output_type": "execute_result"
    }
   ],
   "source": [
    "# Download required nltk packages (only needed for first time)\n",
    "nltk.download('punkt')\n",
    "nltk.download('stopwords')\n",
    "nltk.download('averaged_perceptron_tagger')\n",
    "nltk.download('wordnet')"
   ]
  },
  {
   "cell_type": "code",
   "execution_count": 48,
   "id": "62579116",
   "metadata": {},
   "outputs": [],
   "source": [
    "# Example text\n",
    "text=\"The product is not good\""
   ]
  },
  {
   "cell_type": "code",
   "execution_count": 49,
   "id": "7a5704ad",
   "metadata": {},
   "outputs": [
    {
     "name": "stdout",
     "output_type": "stream",
     "text": [
      "Tokens: ['The', 'product', 'is', 'not', 'good']\n"
     ]
    }
   ],
   "source": [
    "# step 1: Tokenization(splitting the text into words)\n",
    "tokens=word_tokenize(text)\n",
    "print(\"Tokens:\",tokens)"
   ]
  },
  {
   "cell_type": "code",
   "execution_count": 50,
   "id": "13410800",
   "metadata": {},
   "outputs": [
    {
     "name": "stdout",
     "output_type": "stream",
     "text": [
      "Filtered Tokens: ['product', 'good']\n"
     ]
    }
   ],
   "source": [
    "# step 2: remove stopwords (filter out common,non essential words)\n",
    "stop_words=set(stopwords.words('english'))\n",
    "filtered_tokens=[word for word in tokens if word.lower()not in stop_words]\n",
    "print(\"Filtered Tokens:\",filtered_tokens)"
   ]
  },
  {
   "cell_type": "code",
   "execution_count": 51,
   "id": "2f13d1a9",
   "metadata": {},
   "outputs": [
    {
     "name": "stdout",
     "output_type": "stream",
     "text": [
      "Stemmed Tokens: ['product', 'good']\n"
     ]
    }
   ],
   "source": [
    "#step 3:stemming(reduce words to their root form)\n",
    "ps=PorterStemmer()\n",
    "stemmed_tokens=[ps.stem(word)for word in filtered_tokens]\n",
    "print(\"Stemmed Tokens:\",stemmed_tokens)\n"
   ]
  },
  {
   "cell_type": "code",
   "execution_count": 52,
   "id": "eae289eb",
   "metadata": {},
   "outputs": [
    {
     "name": "stdout",
     "output_type": "stream",
     "text": [
      "Lemmatized Tokens: ['product', 'good']\n"
     ]
    }
   ],
   "source": [
    "#step 4: Lemmatization (reduce works to their base form considering the context)\n",
    "lemmatizer=WordNetLemmatizer()\n",
    "lemmatized_tokens=[lemmatizer. lemmatize(word) for word in filtered_tokens]\n",
    "print(\"Lemmatized Tokens:\",lemmatized_tokens)"
   ]
  },
  {
   "cell_type": "code",
   "execution_count": 53,
   "id": "3ef23867",
   "metadata": {},
   "outputs": [
    {
     "name": "stdout",
     "output_type": "stream",
     "text": [
      "POS Tags: [('product', 'NN'), ('good', 'JJ')]\n"
     ]
    }
   ],
   "source": [
    "#Step 5: Part-of-speech (POS) Tagging(assign grammatical categories to each word)\n",
    "pos_tags=nltk.pos_tag(filtered_tokens)\n",
    "print(\"POS Tags:\",pos_tags)"
   ]
  },
  {
   "cell_type": "code",
   "execution_count": 54,
   "id": "67ce767a",
   "metadata": {},
   "outputs": [],
   "source": [
    "#step 6: sentiment analysis using TextBlob ana calssify as positive,negative,or neutral\n",
    "blob=TextBlob(text)\n",
    "polarity=blob.sentiment.polarity\n",
    "\n"
   ]
  },
  {
   "cell_type": "code",
   "execution_count": 35,
   "id": "9bdd7aee",
   "metadata": {},
   "outputs": [
    {
     "name": "stdout",
     "output_type": "stream",
     "text": [
      "sentiment:Negative\n"
     ]
    }
   ],
   "source": [
    "# Determine if the sentiment is positive,negative,or neutral\n",
    "if polarity > 0:\n",
    "    sentiment_label=\"Positive\"\n",
    "elif polarity < 0:\n",
    "    sentiment_label=\"Negative\"\n",
    "else:\n",
    "    sentiment_label=\"Neutral\"\n",
    "    \n",
    "print(f\"sentiment:{sentiment_label}\")\n"
   ]
  },
  {
   "cell_type": "code",
   "execution_count": null,
   "id": "3cd42f3d",
   "metadata": {},
   "outputs": [],
   "source": []
  },
  {
   "cell_type": "code",
   "execution_count": null,
   "id": "4290ee95",
   "metadata": {},
   "outputs": [],
   "source": []
  }
 ],
 "metadata": {
  "kernelspec": {
   "display_name": "Python 3 (ipykernel)",
   "language": "python",
   "name": "python3"
  },
  "language_info": {
   "codemirror_mode": {
    "name": "ipython",
    "version": 3
   },
   "file_extension": ".py",
   "mimetype": "text/x-python",
   "name": "python",
   "nbconvert_exporter": "python",
   "pygments_lexer": "ipython3",
   "version": "3.9.7"
  }
 },
 "nbformat": 4,
 "nbformat_minor": 5
}
